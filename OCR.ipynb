{
 "metadata": {
  "language_info": {
   "codemirror_mode": {
    "name": "ipython",
    "version": 3
   },
   "file_extension": ".py",
   "mimetype": "text/x-python",
   "name": "python",
   "nbconvert_exporter": "python",
   "pygments_lexer": "ipython3",
   "version": "3.8.5"
  },
  "orig_nbformat": 2,
  "kernelspec": {
   "name": "python385jvsc74a57bd096eb50e1d44aed467dc8f759cb08c32fbfa9babcf79c554e2d0e5feb04653a10",
   "display_name": "Python 3.8.5 64-bit (conda)"
  }
 },
 "nbformat": 4,
 "nbformat_minor": 2,
 "cells": [
  {
   "source": [
    "# Import Packages"
   ],
   "cell_type": "markdown",
   "metadata": {}
  },
  {
   "cell_type": "code",
   "execution_count": 1,
   "metadata": {},
   "outputs": [],
   "source": [
    "import cv2\n",
    "import numpy as np\n",
    "import pytesseract\n",
    "from PIL import Image\n",
    "\n",
    "pytesseract.pytesseract.tesseract_cmd = \"E:\\\\PyTesseract\\\\tesseract\"\n"
   ]
  },
  {
   "cell_type": "code",
   "execution_count": 2,
   "metadata": {},
   "outputs": [],
   "source": [
    "def get_string(path):\n",
    "    \n",
    "    #read image\n",
    "    img = cv2.imread(path + \"img.png\") \n",
    "    \n",
    "    #Convert image to gray\n",
    "    img = cv2.cvtColor(img,cv2.COLOR_BGR2GRAY)    \n",
    "    \n",
    "    #Applying dilation and erosion to remove noise\n",
    "    kernel = np.ones((1,1),np.uint8)\n",
    "    img = cv2.dilate(img,kernel,iterations=1)\n",
    "    img = cv2.erode(img,kernel,iterations=1)\n",
    "\n",
    "    #Apply adaptive threshold to get black and white color\n",
    "    img = cv2.adaptiveThreshold(img,255,cv2.ADAPTIVE_THRESH_GAUSSIAN_C,cv2.THRESH_BINARY,11,2)\n",
    "\n",
    "    #save image\n",
    "    cv2.imwrite(path + \"img2.png\",img)\n",
    "\n",
    "    #read text from images\n",
    "    result = pytesseract.image_to_string(Image.open(path + \"img2.png\"))\n",
    "\n",
    "    #return result\n",
    "    return result"
   ]
  },
  {
   "source": [
    "# Test OCR"
   ],
   "cell_type": "markdown",
   "metadata": {}
  },
  {
   "cell_type": "code",
   "execution_count": 4,
   "metadata": {},
   "outputs": [
    {
     "output_type": "stream",
     "name": "stdout",
     "text": [
      "Some people need to\nenlarge web content\nin order to read it.\nSome need to\nchange other\naspects of text\ndisplay: font, space\nbetween lines, and\nmore.\n\f\n"
     ]
    }
   ],
   "source": [
    "src_path = \"F:/The Sparks Foundation/OCR Using OpenCV/\"\n",
    "r = get_string(src_path)\n",
    "print(r)"
   ]
  }
 ]
}